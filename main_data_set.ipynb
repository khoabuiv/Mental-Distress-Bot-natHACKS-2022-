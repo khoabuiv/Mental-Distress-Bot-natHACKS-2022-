{
 "cells": [
  {
   "cell_type": "code",
   "execution_count": 1,
   "metadata": {},
   "outputs": [
    {
     "name": "stderr",
     "output_type": "stream",
     "text": [
      "/Users/khoa/opt/anaconda3/lib/python3.9/site-packages/scipy/__init__.py:146: UserWarning: A NumPy version >=1.16.5 and <1.23.0 is required for this version of SciPy (detected version 1.23.1\n",
      "  warnings.warn(f\"A NumPy version >={np_minversion} and <{np_maxversion}\"\n"
     ]
    }
   ],
   "source": [
    "import pandas as pd, numpy as np\n",
    "import matplotlib.pyplot as plt\n",
    "from sklearn.model_selection import train_test_split"
   ]
  },
  {
   "cell_type": "code",
   "execution_count": 3,
   "metadata": {},
   "outputs": [],
   "source": [
    "data = pd.read_csv('text_dataset.csv') #Dataset generated from the wrangler file\n",
    "train, test = train_test_split(data, random_state=745) #Split the dataset into training and test"
   ]
  },
  {
   "cell_type": "code",
   "execution_count": 4,
   "metadata": {},
   "outputs": [
    {
     "data": {
      "text/plain": [
       "suicide          87069\n",
       "non-suicide      87060\n",
       "anxious           7809\n",
       "normal            7459\n",
       "stressed          6436\n",
       "lonely            6384\n",
       "not depressed     5958\n",
       "depressed         1734\n",
       "Name: label, dtype: int64"
      ]
     },
     "execution_count": 4,
     "metadata": {},
     "output_type": "execute_result"
    }
   ],
   "source": [
    "train['label'].value_counts()"
   ]
  },
  {
   "cell_type": "code",
   "execution_count": 5,
   "metadata": {},
   "outputs": [
    {
     "data": {
      "text/html": [
       "<div>\n",
       "<style scoped>\n",
       "    .dataframe tbody tr th:only-of-type {\n",
       "        vertical-align: middle;\n",
       "    }\n",
       "\n",
       "    .dataframe tbody tr th {\n",
       "        vertical-align: top;\n",
       "    }\n",
       "\n",
       "    .dataframe thead th {\n",
       "        text-align: right;\n",
       "    }\n",
       "</style>\n",
       "<table border=\"1\" class=\"dataframe\">\n",
       "  <thead>\n",
       "    <tr style=\"text-align: right;\">\n",
       "      <th></th>\n",
       "      <th>text</th>\n",
       "    </tr>\n",
       "  </thead>\n",
       "  <tbody>\n",
       "    <tr>\n",
       "      <th>250372</th>\n",
       "      <td>['turn', '21', 'sooni', \"'ll\", 'tri']</td>\n",
       "    </tr>\n",
       "    <tr>\n",
       "      <th>199500</th>\n",
       "      <td>['want', 'murderedi', '’', 'know', 'els', 'wor...</td>\n",
       "    </tr>\n",
       "    <tr>\n",
       "      <th>41767</th>\n",
       "      <td>['garden', 'look', 'estim', 'grade', 'im', 'su...</td>\n",
       "    </tr>\n",
       "    <tr>\n",
       "      <th>126212</th>\n",
       "      <td>['nobodi', 'care', 'til', 'ur', 'dead', '&amp;', '...</td>\n",
       "    </tr>\n",
       "    <tr>\n",
       "      <th>5632</th>\n",
       "      <td>['rihanna', 'anti', 'us', 'certif', 'albumssin...</td>\n",
       "    </tr>\n",
       "  </tbody>\n",
       "</table>\n",
       "</div>"
      ],
      "text/plain": [
       "                                                     text\n",
       "250372              ['turn', '21', 'sooni', \"'ll\", 'tri']\n",
       "199500  ['want', 'murderedi', '’', 'know', 'els', 'wor...\n",
       "41767   ['garden', 'look', 'estim', 'grade', 'im', 'su...\n",
       "126212  ['nobodi', 'care', 'til', 'ur', 'dead', '&', '...\n",
       "5632    ['rihanna', 'anti', 'us', 'certif', 'albumssin..."
      ]
     },
     "execution_count": 5,
     "metadata": {},
     "output_type": "execute_result"
    }
   ],
   "source": [
    "test.drop('label', axis=1, inplace=True)\n",
    "test.sample(5)"
   ]
  },
  {
   "cell_type": "code",
   "execution_count": 6,
   "metadata": {},
   "outputs": [],
   "source": [
    "def changing_label_suicide(row):\n",
    "    if row['label'] == 'suicide':\n",
    "        return 1\n",
    "    return 0\n",
    "\n",
    "def changing_label_lonely(row):\n",
    "    if row['label'] == 'lonely':\n",
    "        return 1\n",
    "    return 0\n",
    "\n",
    "def changing_label_stressed(row):\n",
    "    if row['label'] == 'stressed':\n",
    "        return 1\n",
    "    return 0\n",
    "\n",
    "def changing_label_normal(row):\n",
    "    if row['label'] == 'normal':\n",
    "        return 1\n",
    "    return 0\n",
    "\n",
    "def changing_label_non_suicide(row):\n",
    "    if row['label'] == 'non-suicide':\n",
    "        return 1\n",
    "    return 0\n",
    "\n",
    "def changing_label_not_depressed(row):\n",
    "    if row['label'] == 'not depressed':\n",
    "        return 1\n",
    "    return 0\n",
    "\n",
    "def changing_label_depressed(row):\n",
    "    if row['label'] == 'depressed':\n",
    "        return 1\n",
    "    return 0\n",
    "\n",
    "def changing_label_anxious(row):\n",
    "    if row['label'] == 'anxious':\n",
    "        return 1\n",
    "    return 0"
   ]
  },
  {
   "cell_type": "code",
   "execution_count": 7,
   "metadata": {},
   "outputs": [
    {
     "data": {
      "text/html": [
       "<div>\n",
       "<style scoped>\n",
       "    .dataframe tbody tr th:only-of-type {\n",
       "        vertical-align: middle;\n",
       "    }\n",
       "\n",
       "    .dataframe tbody tr th {\n",
       "        vertical-align: top;\n",
       "    }\n",
       "\n",
       "    .dataframe thead th {\n",
       "        text-align: right;\n",
       "    }\n",
       "</style>\n",
       "<table border=\"1\" class=\"dataframe\">\n",
       "  <thead>\n",
       "    <tr style=\"text-align: right;\">\n",
       "      <th></th>\n",
       "      <th>text</th>\n",
       "      <th>label</th>\n",
       "      <th>suicide</th>\n",
       "      <th>lonely</th>\n",
       "      <th>stressed</th>\n",
       "      <th>normal</th>\n",
       "      <th>non-suicide</th>\n",
       "      <th>not depressed</th>\n",
       "      <th>depressed</th>\n",
       "      <th>anxious</th>\n",
       "    </tr>\n",
       "  </thead>\n",
       "  <tbody>\n",
       "    <tr>\n",
       "      <th>75188</th>\n",
       "      <td>['ca', \"n't\", 'push', 'anymor', '?', \"'m\", 'ti...</td>\n",
       "      <td>suicide</td>\n",
       "      <td>1</td>\n",
       "      <td>0</td>\n",
       "      <td>0</td>\n",
       "      <td>0</td>\n",
       "      <td>0</td>\n",
       "      <td>0</td>\n",
       "      <td>0</td>\n",
       "      <td>0</td>\n",
       "    </tr>\n",
       "    <tr>\n",
       "      <th>30128</th>\n",
       "      <td>['pick', 'someon', 'els', 'pleas', 'dont', 'br...</td>\n",
       "      <td>normal</td>\n",
       "      <td>0</td>\n",
       "      <td>0</td>\n",
       "      <td>0</td>\n",
       "      <td>1</td>\n",
       "      <td>0</td>\n",
       "      <td>0</td>\n",
       "      <td>0</td>\n",
       "      <td>0</td>\n",
       "    </tr>\n",
       "    <tr>\n",
       "      <th>134125</th>\n",
       "      <td>['crimea', 'still', 'recogn', 'ukrainian', 'de...</td>\n",
       "      <td>non-suicide</td>\n",
       "      <td>0</td>\n",
       "      <td>0</td>\n",
       "      <td>0</td>\n",
       "      <td>0</td>\n",
       "      <td>1</td>\n",
       "      <td>0</td>\n",
       "      <td>0</td>\n",
       "      <td>0</td>\n",
       "    </tr>\n",
       "    <tr>\n",
       "      <th>101668</th>\n",
       "      <td>['know', 'els', 'lookin', 'fine', 'u/ethan_kei...</td>\n",
       "      <td>non-suicide</td>\n",
       "      <td>0</td>\n",
       "      <td>0</td>\n",
       "      <td>0</td>\n",
       "      <td>0</td>\n",
       "      <td>1</td>\n",
       "      <td>0</td>\n",
       "      <td>0</td>\n",
       "      <td>0</td>\n",
       "    </tr>\n",
       "    <tr>\n",
       "      <th>139098</th>\n",
       "      <td>['want', 'die', 'everyon', 'keep', 'lie', 'muc...</td>\n",
       "      <td>suicide</td>\n",
       "      <td>1</td>\n",
       "      <td>0</td>\n",
       "      <td>0</td>\n",
       "      <td>0</td>\n",
       "      <td>0</td>\n",
       "      <td>0</td>\n",
       "      <td>0</td>\n",
       "      <td>0</td>\n",
       "    </tr>\n",
       "  </tbody>\n",
       "</table>\n",
       "</div>"
      ],
      "text/plain": [
       "                                                     text        label  \\\n",
       "75188   ['ca', \"n't\", 'push', 'anymor', '?', \"'m\", 'ti...      suicide   \n",
       "30128   ['pick', 'someon', 'els', 'pleas', 'dont', 'br...       normal   \n",
       "134125  ['crimea', 'still', 'recogn', 'ukrainian', 'de...  non-suicide   \n",
       "101668  ['know', 'els', 'lookin', 'fine', 'u/ethan_kei...  non-suicide   \n",
       "139098  ['want', 'die', 'everyon', 'keep', 'lie', 'muc...      suicide   \n",
       "\n",
       "        suicide  lonely  stressed  normal  non-suicide  not depressed  \\\n",
       "75188         1       0         0       0            0              0   \n",
       "30128         0       0         0       1            0              0   \n",
       "134125        0       0         0       0            1              0   \n",
       "101668        0       0         0       0            1              0   \n",
       "139098        1       0         0       0            0              0   \n",
       "\n",
       "        depressed  anxious  \n",
       "75188           0        0  \n",
       "30128           0        0  \n",
       "134125          0        0  \n",
       "101668          0        0  \n",
       "139098          0        0  "
      ]
     },
     "execution_count": 7,
     "metadata": {},
     "output_type": "execute_result"
    }
   ],
   "source": [
    "train['suicide'] = 0\n",
    "train['lonely'] = 0\n",
    "train['stressed'] = 0\n",
    "train['normal'] = 0\n",
    "train['non-suicide'] = 0\n",
    "train['not depressed'] = 0\n",
    "train['depressed'] = 0\n",
    "train['anxious'] = 0\n",
    "\n",
    "train['suicide'] = train.apply(lambda row: changing_label_suicide(row), axis=1)\n",
    "train['non-suicide'] = train.apply(lambda row: changing_label_non_suicide(row), axis=1)\n",
    "\n",
    "train['not depressed'] = train.apply(lambda row: changing_label_not_depressed(row), axis=1)\n",
    "train['depressed'] = train.apply(lambda row: changing_label_depressed(row), axis=1)\n",
    "\n",
    "train['lonely'] = train.apply(lambda row: changing_label_lonely(row), axis=1)\n",
    "train['stressed'] = train.apply(lambda row: changing_label_stressed(row), axis=1)\n",
    "train['normal'] = train.apply(lambda row: changing_label_normal(row), axis=1)\n",
    "train['anxious'] = train.apply(lambda row: changing_label_anxious(row), axis=1)\n",
    "\n",
    "\n",
    "train.sample(5)"
   ]
  },
  {
   "cell_type": "code",
   "execution_count": 8,
   "metadata": {},
   "outputs": [
    {
     "name": "stdout",
     "output_type": "stream",
     "text": [
      "0    122840\n",
      "1     87069\n",
      "Name: suicide, dtype: int64\n",
      "0    122849\n",
      "1     87060\n",
      "Name: non-suicide, dtype: int64\n",
      "0    208175\n",
      "1      1734\n",
      "Name: depressed, dtype: int64\n",
      "0    203951\n",
      "1      5958\n",
      "Name: not depressed, dtype: int64\n",
      "0    202450\n",
      "1      7459\n",
      "Name: normal, dtype: int64\n",
      "0    203525\n",
      "1      6384\n",
      "Name: lonely, dtype: int64\n",
      "0    203473\n",
      "1      6436\n",
      "Name: stressed, dtype: int64\n",
      "0    202100\n",
      "1      7809\n",
      "Name: anxious, dtype: int64\n"
     ]
    }
   ],
   "source": [
    "layer_1 = ['suicide', 'non-suicide']\n",
    "layer_2 = ['depressed', 'not depressed']\n",
    "layer_3 = ['normal', 'lonely', 'stressed', 'anxious']\n",
    "\n",
    "for i in range(len(layer_1)):\n",
    "    print(train[layer_1[i]].value_counts())\n",
    "    \n",
    "for i in range(len(layer_2)):\n",
    "    print(train[layer_2[i]].value_counts())\n",
    "\n",
    "for i in range(len(layer_3)):\n",
    "    print(train[layer_3[i]].value_counts())"
   ]
  },
  {
   "cell_type": "code",
   "execution_count": 9,
   "metadata": {},
   "outputs": [],
   "source": [
    "from sklearn.feature_extraction.text import CountVectorizer, TfidfVectorizer\n",
    "\n",
    "# Some additional clean up. Idk if this is needed. \n",
    "\n",
    "n = train.shape[0]\n",
    "vec = TfidfVectorizer(analyzer = \"word\", max_features=10000)\n",
    "trn_term_doc = vec.fit_transform(train['text'])\n",
    "test_term_doc = vec.transform(test['text'])\n"
   ]
  },
  {
   "cell_type": "code",
   "execution_count": 10,
   "metadata": {},
   "outputs": [],
   "source": [
    "x = trn_term_doc\n",
    "test_x = test_term_doc"
   ]
  },
  {
   "cell_type": "code",
   "execution_count": 11,
   "metadata": {},
   "outputs": [
    {
     "name": "stdout",
     "output_type": "stream",
     "text": [
      "fit suicide\n",
      "fit non-suicide\n"
     ]
    }
   ],
   "source": [
    "from sklearn.linear_model import LogisticRegression\n",
    "# Code from: https://www.kaggle.com/code/jhoward/nb-svm-strong-linear-baseline\n",
    "\n",
    "def pr(y_i, y):\n",
    "    p = x[y==y_i].sum(0)\n",
    "    return (p+1) / ((y==y_i).sum()+1)\n",
    "\n",
    "def get_mdl(y):\n",
    "    y = y.values\n",
    "    r = np.log(pr(1,y) / pr(0,y))\n",
    "    m = LogisticRegression(C=4, max_iter=500)\n",
    "    x_nb = x.multiply(r)\n",
    "    return m.fit(x_nb, y), r\n",
    "\n",
    "layer_1 = ['suicide', 'non-suicide']\n",
    "preds_1 = np.zeros((len(test), len(layer_1)))\n",
    "array_1 = []\n",
    "\n",
    "for i, j in enumerate(layer_1):\n",
    "    print('fit', j)\n",
    "    m,r = get_mdl(train[j])\n",
    "    array_1.append([m,r])\n",
    "    preds_1[:,i] = m.predict_proba(test_x.multiply(r))[:,1]\n"
   ]
  },
  {
   "cell_type": "code",
   "execution_count": 12,
   "metadata": {},
   "outputs": [
    {
     "name": "stdout",
     "output_type": "stream",
     "text": [
      "fit depressed\n",
      "fit not depressed\n",
      "fit normal\n",
      "fit lonely\n",
      "fit stressed\n",
      "fit anxious\n"
     ]
    }
   ],
   "source": [
    "layer_2 = ['depressed', 'not depressed']\n",
    "preds_2 = np.zeros((len(test), len(layer_2)))\n",
    "array_2 = []\n",
    "\n",
    "for i, j in enumerate(layer_2):\n",
    "    print('fit', j)\n",
    "    m,r = get_mdl(train[j])\n",
    "    array_2.append([m,r])\n",
    "    preds_2[:,i] = m.predict_proba(test_x.multiply(r))[:,1]\n",
    "\n",
    "\n",
    "layer_3 = ['normal', 'lonely', 'stressed', 'anxious']\n",
    "preds_3 = np.zeros((len(test), len(layer_3)))\n",
    "array_3 = []\n",
    "\n",
    "for i, j in enumerate(layer_3):\n",
    "    print('fit', j)\n",
    "    m,r = get_mdl(train[j])\n",
    "    array_3.append([m,r])\n",
    "    preds_3[:,i] = m.predict_proba(test_x.multiply(r))[:,1]\n"
   ]
  },
  {
   "cell_type": "code",
   "execution_count": 13,
   "metadata": {},
   "outputs": [],
   "source": [
    "def predict_suicide_risk(txt): # The function use to predict suicide risk. \n",
    "    # Return the highest probability\n",
    "    vtxt = vec.transform([txt])\n",
    "    likely_label = np.zeros((len(txt), len(layer_1)))\n",
    "\n",
    "    for i, j in enumerate(layer_1):\n",
    "        m,r = array_1[i]\n",
    "        likely_label[:,i] = m.predict_proba(vtxt.multiply(r))[:,1] \n",
    "    return likely_label[0]\n",
    "  \n",
    "def get_label_suicide(predsx):\n",
    "    out = predsx.tolist()\n",
    "    max = 0\n",
    "    label = \"non-suicide\"\n",
    "    for i in range(len(out)):\n",
    "        if out[i] > max:\n",
    "            max = out[i]\n",
    "            label = layer_1[i]\n",
    "    print(label, max)\n",
    "\n",
    "def predict_depression_risk(txt): # The function use to predict suicide risk. \n",
    "    # Return the highest probability\n",
    "    vtxt = vec.transform([txt])\n",
    "    likely_label = np.zeros((len(txt), len(layer_2)))\n",
    "\n",
    "    for i, j in enumerate(layer_2):\n",
    "        m,r = array_2[i]\n",
    "        likely_label[:,i] = m.predict_proba(vtxt.multiply(r))[:,1] \n",
    "    return likely_label[0]\n",
    "\n",
    "def get_label_depression(predsx):\n",
    "    out = predsx.tolist()\n",
    "    max = 0\n",
    "    label = \"not depressed\"\n",
    "    for i in range(len(out)):\n",
    "        if out[i] > max:\n",
    "            max = out[i]\n",
    "            label = layer_2[i]\n",
    "    print(label, max)\n",
    "\n",
    "def predict_other_risks(txt): # The function use to predict suicide risk. \n",
    "    # Return the highest probability\n",
    "    vtxt = vec.transform([txt])\n",
    "    likely_label = np.zeros((len(txt), len(layer_3)))\n",
    "\n",
    "    for i, j in enumerate(layer_3):\n",
    "        m,r = array_3[i]\n",
    "        likely_label[:,i] = m.predict_proba(vtxt.multiply(r))[:,1] \n",
    "    return likely_label[0]\n",
    "\n",
    "def other_labels(predsx):\n",
    "    out = predsx.tolist()\n",
    "    max = 0\n",
    "    label = \"normal\"\n",
    "    for i in range(len(out)):\n",
    "        if out[i] > max:\n",
    "            max = out[i]\n",
    "            label = layer_3[i]\n",
    "    print(label, max)\n",
    "\n",
    "\n",
    "def classify(txt):\n",
    "    suicide_risk = predict_suicide_risk(txt)\n",
    "    suicide_label = get_label_suicide(suicide_risk)\n",
    "    depression_risk = predict_depression_risk(txt)\n",
    "    depression_label = get_label_depression(depression_risk)\n",
    "    other_risks = predict_other_risks(txt)\n",
    "    others = other_labels(other_risks)\n"
   ]
  },
  {
   "cell_type": "code",
   "execution_count": 14,
   "metadata": {},
   "outputs": [
    {
     "name": "stdout",
     "output_type": "stream",
     "text": [
      "suicide 0.9629493190071304\n",
      "not depressed 0.0013556514712671297\n",
      "lonely 0.003678939621142827\n"
     ]
    }
   ],
   "source": [
    "text = \"I want to die\"\n",
    "classify(text)"
   ]
  }
 ],
 "metadata": {
  "kernelspec": {
   "display_name": "Python 3.9.12 ('base')",
   "language": "python",
   "name": "python3"
  },
  "language_info": {
   "codemirror_mode": {
    "name": "ipython",
    "version": 3
   },
   "file_extension": ".py",
   "mimetype": "text/x-python",
   "name": "python",
   "nbconvert_exporter": "python",
   "pygments_lexer": "ipython3",
   "version": "3.9.12"
  },
  "orig_nbformat": 4,
  "vscode": {
   "interpreter": {
    "hash": "5ecbcb2fee717125b4cd175d05dd3a031449b6507e0c7a09bcfd121e7a69716d"
   }
  }
 },
 "nbformat": 4,
 "nbformat_minor": 2
}
