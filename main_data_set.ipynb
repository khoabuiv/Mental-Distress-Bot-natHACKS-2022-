{
 "cells": [
  {
   "cell_type": "code",
   "execution_count": 1,
   "metadata": {},
   "outputs": [
    {
     "name": "stderr",
     "output_type": "stream",
     "text": [
      "/Users/khoa/opt/anaconda3/lib/python3.9/site-packages/scipy/__init__.py:146: UserWarning: A NumPy version >=1.16.5 and <1.23.0 is required for this version of SciPy (detected version 1.23.1\n",
      "  warnings.warn(f\"A NumPy version >={np_minversion} and <{np_maxversion}\"\n"
     ]
    }
   ],
   "source": [
    "import pandas as pd, numpy as np\n",
    "import matplotlib.pyplot as plt\n",
    "from sklearn.model_selection import train_test_split"
   ]
  },
  {
   "cell_type": "code",
   "execution_count": 3,
   "metadata": {},
   "outputs": [],
   "source": [
    "data = pd.read_csv('text_dataset.csv') #Dataset generated from the wrangler file\n",
    "train, test = train_test_split(data, random_state=745) #Split the dataset into training and test"
   ]
  },
  {
   "cell_type": "code",
   "execution_count": 4,
   "metadata": {},
   "outputs": [
    {
     "data": {
      "text/plain": [
       "suicide          87069\n",
       "non-suicide      87060\n",
       "anxious           7809\n",
       "normal            7459\n",
       "stressed          6436\n",
       "lonely            6384\n",
       "not depressed     5958\n",
       "depressed         1734\n",
       "Name: label, dtype: int64"
      ]
     },
     "execution_count": 4,
     "metadata": {},
     "output_type": "execute_result"
    }
   ],
   "source": [
    "train['label'].value_counts()"
   ]
  },
  {
   "cell_type": "code",
   "execution_count": 5,
   "metadata": {},
   "outputs": [
    {
     "data": {
      "text/html": [
       "<div>\n",
       "<style scoped>\n",
       "    .dataframe tbody tr th:only-of-type {\n",
       "        vertical-align: middle;\n",
       "    }\n",
       "\n",
       "    .dataframe tbody tr th {\n",
       "        vertical-align: top;\n",
       "    }\n",
       "\n",
       "    .dataframe thead th {\n",
       "        text-align: right;\n",
       "    }\n",
       "</style>\n",
       "<table border=\"1\" class=\"dataframe\">\n",
       "  <thead>\n",
       "    <tr style=\"text-align: right;\">\n",
       "      <th></th>\n",
       "      <th>text</th>\n",
       "    </tr>\n",
       "  </thead>\n",
       "  <tbody>\n",
       "    <tr>\n",
       "      <th>208853</th>\n",
       "      <td>['hate', 'indian', 'uncl', 'recent', 'parent',...</td>\n",
       "    </tr>\n",
       "    <tr>\n",
       "      <th>210693</th>\n",
       "      <td>['number', 'game', '!', 'saw', 'lot', 'recent'...</td>\n",
       "    </tr>\n",
       "    <tr>\n",
       "      <th>169378</th>\n",
       "      <td>['rock', 'bottomi', 'ca', \"n't\", 'go', 'anymor...</td>\n",
       "    </tr>\n",
       "    <tr>\n",
       "      <th>137936</th>\n",
       "      <td>['everyon', 'appreci', 'post', 'deserv', 'appr...</td>\n",
       "    </tr>\n",
       "    <tr>\n",
       "      <th>271841</th>\n",
       "      <td>['listen', 'say', 'know', 'everyon', 'say', 'q...</td>\n",
       "    </tr>\n",
       "  </tbody>\n",
       "</table>\n",
       "</div>"
      ],
      "text/plain": [
       "                                                     text\n",
       "208853  ['hate', 'indian', 'uncl', 'recent', 'parent',...\n",
       "210693  ['number', 'game', '!', 'saw', 'lot', 'recent'...\n",
       "169378  ['rock', 'bottomi', 'ca', \"n't\", 'go', 'anymor...\n",
       "137936  ['everyon', 'appreci', 'post', 'deserv', 'appr...\n",
       "271841  ['listen', 'say', 'know', 'everyon', 'say', 'q..."
      ]
     },
     "execution_count": 5,
     "metadata": {},
     "output_type": "execute_result"
    }
   ],
   "source": [
    "test.drop('label', axis=1, inplace=True)\n",
    "test.sample(5)"
   ]
  },
  {
   "cell_type": "code",
   "execution_count": 6,
   "metadata": {},
   "outputs": [],
   "source": [
    "def changing_label_suicide(row):\n",
    "    if row['label'] == 'suicide':\n",
    "        return 1\n",
    "    return 0\n",
    "\n",
    "def changing_label_lonely(row):\n",
    "    if row['label'] == 'lonely':\n",
    "        return 1\n",
    "    return 0\n",
    "\n",
    "def changing_label_stressed(row):\n",
    "    if row['label'] == 'stressed':\n",
    "        return 1\n",
    "    return 0\n",
    "\n",
    "def changing_label_normal(row):\n",
    "    if row['label'] == 'normal':\n",
    "        return 1\n",
    "    return 0\n",
    "\n",
    "def changing_label_non_suicide(row):\n",
    "    if row['label'] == 'non-suicide':\n",
    "        return 1\n",
    "    return 0\n",
    "\n",
    "def changing_label_not_depressed(row):\n",
    "    if row['label'] == 'not depressed':\n",
    "        return 1\n",
    "    return 0\n",
    "\n",
    "def changing_label_depressed(row):\n",
    "    if row['label'] == 'depressed':\n",
    "        return 1\n",
    "    return 0\n",
    "\n",
    "def changing_label_anxious(row):\n",
    "    if row['label'] == 'anxious':\n",
    "        return 1\n",
    "    return 0"
   ]
  },
  {
   "cell_type": "code",
   "execution_count": 7,
   "metadata": {},
   "outputs": [
    {
     "data": {
      "text/html": [
       "<div>\n",
       "<style scoped>\n",
       "    .dataframe tbody tr th:only-of-type {\n",
       "        vertical-align: middle;\n",
       "    }\n",
       "\n",
       "    .dataframe tbody tr th {\n",
       "        vertical-align: top;\n",
       "    }\n",
       "\n",
       "    .dataframe thead th {\n",
       "        text-align: right;\n",
       "    }\n",
       "</style>\n",
       "<table border=\"1\" class=\"dataframe\">\n",
       "  <thead>\n",
       "    <tr style=\"text-align: right;\">\n",
       "      <th></th>\n",
       "      <th>text</th>\n",
       "      <th>label</th>\n",
       "      <th>suicide</th>\n",
       "      <th>lonely</th>\n",
       "      <th>stressed</th>\n",
       "      <th>normal</th>\n",
       "      <th>non-suicide</th>\n",
       "      <th>not depressed</th>\n",
       "      <th>depressed</th>\n",
       "      <th>anxious</th>\n",
       "    </tr>\n",
       "  </thead>\n",
       "  <tbody>\n",
       "    <tr>\n",
       "      <th>194526</th>\n",
       "      <td>['dont', 'deserv', 'lifeit', \"'s\", 'hard', 'th...</td>\n",
       "      <td>suicide</td>\n",
       "      <td>1</td>\n",
       "      <td>0</td>\n",
       "      <td>0</td>\n",
       "      <td>0</td>\n",
       "      <td>0</td>\n",
       "      <td>0</td>\n",
       "      <td>0</td>\n",
       "      <td>0</td>\n",
       "    </tr>\n",
       "    <tr>\n",
       "      <th>88201</th>\n",
       "      <td>['realli', 'big', 'oof', 'start', 'watch', '``...</td>\n",
       "      <td>non-suicide</td>\n",
       "      <td>0</td>\n",
       "      <td>0</td>\n",
       "      <td>0</td>\n",
       "      <td>0</td>\n",
       "      <td>1</td>\n",
       "      <td>0</td>\n",
       "      <td>0</td>\n",
       "      <td>0</td>\n",
       "    </tr>\n",
       "    <tr>\n",
       "      <th>182899</th>\n",
       "      <td>['hey', 'girl', ',', 'tree', '?', 'cu', 'hear'...</td>\n",
       "      <td>non-suicide</td>\n",
       "      <td>0</td>\n",
       "      <td>0</td>\n",
       "      <td>0</td>\n",
       "      <td>0</td>\n",
       "      <td>1</td>\n",
       "      <td>0</td>\n",
       "      <td>0</td>\n",
       "      <td>0</td>\n",
       "    </tr>\n",
       "    <tr>\n",
       "      <th>93056</th>\n",
       "      <td>['life', 'worth', 'live', 'anymor', '?', 'hey'...</td>\n",
       "      <td>suicide</td>\n",
       "      <td>1</td>\n",
       "      <td>0</td>\n",
       "      <td>0</td>\n",
       "      <td>0</td>\n",
       "      <td>0</td>\n",
       "      <td>0</td>\n",
       "      <td>0</td>\n",
       "      <td>0</td>\n",
       "    </tr>\n",
       "    <tr>\n",
       "      <th>242015</th>\n",
       "      <td>['anyon', 'wan', 'na', 'chat', 'someth', 'idk'...</td>\n",
       "      <td>non-suicide</td>\n",
       "      <td>0</td>\n",
       "      <td>0</td>\n",
       "      <td>0</td>\n",
       "      <td>0</td>\n",
       "      <td>1</td>\n",
       "      <td>0</td>\n",
       "      <td>0</td>\n",
       "      <td>0</td>\n",
       "    </tr>\n",
       "  </tbody>\n",
       "</table>\n",
       "</div>"
      ],
      "text/plain": [
       "                                                     text        label  \\\n",
       "194526  ['dont', 'deserv', 'lifeit', \"'s\", 'hard', 'th...      suicide   \n",
       "88201   ['realli', 'big', 'oof', 'start', 'watch', '``...  non-suicide   \n",
       "182899  ['hey', 'girl', ',', 'tree', '?', 'cu', 'hear'...  non-suicide   \n",
       "93056   ['life', 'worth', 'live', 'anymor', '?', 'hey'...      suicide   \n",
       "242015  ['anyon', 'wan', 'na', 'chat', 'someth', 'idk'...  non-suicide   \n",
       "\n",
       "        suicide  lonely  stressed  normal  non-suicide  not depressed  \\\n",
       "194526        1       0         0       0            0              0   \n",
       "88201         0       0         0       0            1              0   \n",
       "182899        0       0         0       0            1              0   \n",
       "93056         1       0         0       0            0              0   \n",
       "242015        0       0         0       0            1              0   \n",
       "\n",
       "        depressed  anxious  \n",
       "194526          0        0  \n",
       "88201           0        0  \n",
       "182899          0        0  \n",
       "93056           0        0  \n",
       "242015          0        0  "
      ]
     },
     "execution_count": 7,
     "metadata": {},
     "output_type": "execute_result"
    }
   ],
   "source": [
    "train['suicide'] = 0\n",
    "train['lonely'] = 0\n",
    "train['stressed'] = 0\n",
    "train['normal'] = 0\n",
    "train['non-suicide'] = 0\n",
    "train['not depressed'] = 0\n",
    "train['depressed'] = 0\n",
    "train['anxious'] = 0\n",
    "\n",
    "train['suicide'] = train.apply(lambda row: changing_label_suicide(row), axis=1)\n",
    "train['non-suicide'] = train.apply(lambda row: changing_label_non_suicide(row), axis=1)\n",
    "\n",
    "train['not depressed'] = train.apply(lambda row: changing_label_not_depressed(row), axis=1)\n",
    "train['depressed'] = train.apply(lambda row: changing_label_depressed(row), axis=1)\n",
    "\n",
    "train['lonely'] = train.apply(lambda row: changing_label_lonely(row), axis=1)\n",
    "train['stressed'] = train.apply(lambda row: changing_label_stressed(row), axis=1)\n",
    "train['normal'] = train.apply(lambda row: changing_label_normal(row), axis=1)\n",
    "train['anxious'] = train.apply(lambda row: changing_label_anxious(row), axis=1)\n",
    "\n",
    "\n",
    "train.sample(5)"
   ]
  },
  {
   "cell_type": "code",
   "execution_count": 8,
   "metadata": {},
   "outputs": [],
   "source": [
    "layer_1 = ['suicide', 'non-suicide']\n",
    "layer_2 = ['depressed', 'not depressed']\n",
    "layer_3 = ['normal', 'lonely', 'stressed', 'anxious']\n"
   ]
  },
  {
   "cell_type": "code",
   "execution_count": 9,
   "metadata": {},
   "outputs": [],
   "source": [
    "from sklearn.feature_extraction.text import CountVectorizer, TfidfVectorizer\n",
    "\n",
    "# Some additional clean up. Idk if this is needed. \n",
    "\n",
    "n = train.shape[0]\n",
    "vec = TfidfVectorizer(analyzer = \"word\", max_features=10000)\n",
    "X_dtm = vec.fit_transform(train['text'])\n",
    "test_X_dtm = vec.transform(test['text'])\n"
   ]
  },
  {
   "cell_type": "code",
   "execution_count": 10,
   "metadata": {},
   "outputs": [],
   "source": [
    "from sklearn.tree import DecisionTreeClassifier\n",
    "from sklearn.metrics import accuracy_score\n",
    "suicide_pred_model = DecisionTreeClassifier()\n",
    "layer_1 = ['suicide', 'non-suicide']\n",
    "\n",
    "for label in layer_1:\n",
    "    print('... Processing {}'.format(label))\n",
    "    y = train[label]\n",
    "    suicide_pred_model.fit(X_dtm, y)\n",
    "    y_pred_X = suicide_pred_model.predict(X_dtm)\n",
    "    print('Training accuracy is {}'.format(accuracy_score(y, y_pred_X)))\n",
    "\n"
   ]
  },
  {
   "cell_type": "code",
   "execution_count": 11,
   "metadata": {},
   "outputs": [
    {
     "name": "stdout",
     "output_type": "stream",
     "text": [
      "fit suicide\n",
      "fit non-suicide\n"
     ]
    }
   ],
   "source": [
    "from sklearn.svm import LinearSVC\n",
    "from sklearn.metrics import accuracy_score\n",
    "depression_pred_model = LinearSVC()\n",
    "layer_2 = ['depressed', 'not depressed']\n",
    "\n",
    "for label in layer_2:\n",
    "    print('... Processing {}'.format(label))\n",
    "    y = train[label]\n",
    "    depression_pred_model.fit(X_dtm, y)\n",
    "    y_pred_X = depression_pred_model.predict(X_dtm)\n",
    "    print('Training accuracy is {}'.format(accuracy_score(y, y_pred_X)))\n"
   ]
  },
  {
   "cell_type": "code",
   "execution_count": 12,
   "metadata": {},
   "outputs": [
    {
     "name": "stdout",
     "output_type": "stream",
     "text": [
      "fit depressed\n",
      "fit not depressed\n",
      "fit normal\n",
      "fit lonely\n",
      "fit stressed\n",
      "fit anxious\n"
     ]
    }
   ],
   "source": [
    "#Doesn't work yet.\n",
    "from sklearn.naive_bayes import BernoulliNB\n",
    "from sklearn.metrics import accuracy_score\n",
    "other_cons_pred_model = BernoulliNB()\n",
    "layer_3 = ['normal', 'lonely', 'stressed', 'anxious']\n",
    "pred = []\n",
    "\n",
    "\n",
    "for i,j in enumerate(layer_3):\n",
    "    print('... Processing {}'.format(j))\n",
    "    y = train[j]\n",
    "    pred.append(other_cons_pred_model.fit(X_dtm, y))\n",
    "    y_pred_X = other_cons_pred_model.predict(X_dtm)\n",
    "    print('Training accuracy is {}'.format(accuracy_score(y, y_pred_X)))\n",
    "\n"
   ]
  },
  {
   "cell_type": "code",
   "execution_count": null,
   "metadata": {},
   "outputs": [],
   "source": [
    "from joblib import dump, load\n",
    "dump(suicide_pred_model, 'suicide_prediction.joblib') \n",
    "dump(depression_pred_model, 'depression_prediction.joblib') "
   ]
  },
  {
   "cell_type": "code",
   "execution_count": null,
   "metadata": {},
   "outputs": [],
   "source": [
    "txt = \"I am happy\"\n",
    "vtxt = vec.transform([txt])\n",
    "predsx = np.zeros((len(layer_1)))\n",
    "for i, j in enumerate(layer_1):\n",
    "    predsx = suicide_pred_model.predict_proba(vtxt)[0]\n",
    "print(predsx)\n",
    "\n",
    "def get_lab_proba(predsx,threshold=0.1):\n",
    "    out = predsx.tolist()\n",
    "    max = 0\n",
    "    lab = \"not toxic\"\n",
    "    for i in range(len(out)):\n",
    "        if out[i] > max and out[i]>threshold:\n",
    "            max = out[i]\n",
    "            lab = layer_1[i]\n",
    "    print(lab,max)\n",
    "get_lab_proba(predsx)\n",
    "\n",
    "#Input prediction for suicide"
   ]
  },
  {
   "cell_type": "code",
   "execution_count": null,
   "metadata": {},
   "outputs": [],
   "source": [
    "txt = \"I am sad\"\n",
    "vtxt = vec.transform([txt])\n",
    "predsx = np.zeros((len(layer_2)))\n",
    "for i, j in enumerate(layer_2):\n",
    "    predsx = suicide_pred_model.predict_proba(vtxt)[0]\n",
    "print(predsx)\n",
    "\n",
    "def get_lab_proba(predsx,threshold=0.1):\n",
    "    out = predsx.tolist()\n",
    "    max = 0\n",
    "    lab = \"not toxic\"\n",
    "    for i in range(len(out)):\n",
    "        if out[i] > max and out[i]>threshold:\n",
    "            max = out[i]\n",
    "            lab = layer_2[i]\n",
    "    print(lab,max)\n",
    "get_lab_proba(predsx)\n",
    "\n",
    "#text prediction for depression"
   ]
  }
 ],
 "metadata": {
  "kernelspec": {
   "display_name": "Python 3.9.13 64-bit",
   "language": "python",
   "name": "python3"
  },
  "language_info": {
   "codemirror_mode": {
    "name": "ipython",
    "version": 3
   },
   "file_extension": ".py",
   "mimetype": "text/x-python",
   "name": "python",
   "nbconvert_exporter": "python",
   "pygments_lexer": "ipython3",
   "version": "3.9.13"
  },
  "orig_nbformat": 4,
  "vscode": {
   "interpreter": {
    "hash": "b0fa6594d8f4cbf19f97940f81e996739fb7646882a419484c72d19e05852a7e"
   }
  }
 },
 "nbformat": 4,
 "nbformat_minor": 2
}
